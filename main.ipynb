{
 "cells": [
  {
   "cell_type": "code",
   "execution_count": null,
   "metadata": {},
   "outputs": [],
   "source": [
    "import numpy as np\n",
    "import pandas as pd\n",
    "import time\n",
    "from sklearn.svm import SVC\n",
    "from collections import Counter\n",
    "import matplotlib.pyplot as plt\n",
    "%matplotlib inline\n",
    "\n",
    "from cpselftraining import CPSelfTraining\n",
    "from conformalprediction import *\n",
    "from stdst import StandardSelftraining\n",
    "\n",
    "from preprocces import PreProcessing\n",
    "\n",
    "from icpselftraining import ICPSelftraining\n",
    "\n",
    "from sklearn.metrics import roc_curve, roc_auc_score, auc, classification_report\n",
    "from imblearn.metrics import classification_report_imbalanced"
   ]
  },
  {
   "cell_type": "markdown",
   "metadata": {},
   "source": [
    "## dataset"
   ]
  },
  {
   "cell_type": "code",
   "execution_count": null,
   "metadata": {},
   "outputs": [],
   "source": [
    "df_columns=['Destination_Port','Flow_Duration','Total_Length_of_Fwd_Packets','Fwd_Packet_Length_Mean',\n",
    "            'Flow_IAT_Mean', 'Flow_IAT_Std', 'Flow_IAT_Max','Fwd_IAT_Total', 'Fwd_IAT_Mean','Fwd_IAT_Std',\n",
    "            'Fwd_IAT_Max','Bwd_IAT_Total','Bwd_IAT_Mean','Bwd_IAT_Max','Fwd_Header_Length','Fwd_Packets/s',\n",
    "            'Bwd_Packets/s','Max_Packet_Length','Packet_Length_Mean','Packet_Length_Std','Packet_Length_Variance',\n",
    "            'Average_Packet_Size','Avg_Fwd_Segment_Size','Subflow_Fwd_Bytes','Init_Win_bytes_forward',\n",
    "            'Active_Min','Idle_Mean','Idle_Max','Idle_Min','Label']\n",
    "Train_ = pd.read_csv(\"Dataset\\Train.csv\", skiprows=0, header=0, names=df_columns)\n",
    "Test_ = pd.read_csv(\"Dataset\\Test.csv\", skiprows=0, header=0, names=df_columns)"
   ]
  },
  {
   "cell_type": "code",
   "execution_count": null,
   "metadata": {},
   "outputs": [],
   "source": [
    "Train_.shape"
   ]
  },
  {
   "cell_type": "code",
   "execution_count": null,
   "metadata": {},
   "outputs": [],
   "source": [
    "Test_.shape"
   ]
  },
  {
   "cell_type": "code",
   "execution_count": null,
   "metadata": {},
   "outputs": [],
   "source": [
    "labeled_ratio = 0.02\n",
    "imbalanced_ratio =20\n",
    "num_Train = 10000\n",
    "num_Test = 3000\n",
    "pre = PreProcessing(labeled_ratio,imbalanced_ratio)"
   ]
  },
  {
   "cell_type": "code",
   "execution_count": null,
   "metadata": {},
   "outputs": [],
   "source": [
    "Train, Test = pre.modify_ir(Train_,Test_,num_Train,num_Test)\n",
    "X_unlabeled, X_labeled, y_unlabeled, y_labeled,X_train,y_train, X_test, y_test = pre.split(Train,Test)"
   ]
  },
  {
   "cell_type": "code",
   "execution_count": null,
   "metadata": {},
   "outputs": [],
   "source": [
    "print(\"Train: \",Counter(Train.Label))\n",
    "print(\"\\tlabeled: \", Counter(y_labeled))\n",
    "print(\"\\tunlabeled: \", Counter(y_unlabeled))\n",
    "print(\"\\nTest: \",Counter(Test.Label))\n",
    "y_true = y_test.copy(deep=True)\n",
    "no_skill_y = len(y_true[y_true==1]) / len(y_true)"
   ]
  },
  {
   "cell_type": "code",
   "execution_count": null,
   "metadata": {},
   "outputs": [],
   "source": [
    "Counter(y_train)"
   ]
  },
  {
   "cell_type": "markdown",
   "metadata": {},
   "source": [
    "## Base classifiers"
   ]
  },
  {
   "cell_type": "code",
   "execution_count": null,
   "metadata": {},
   "outputs": [],
   "source": [
    "class base_classifiers:\n",
    "    KNN = KNN_model(KNeighborsClassifier(n_neighbors=3,metric=\"euclidean\",#n_jobs=2  # Parallelize work on CPUs\n",
    "                              ))\n",
    "#     NB = GaussianNB(priors=None)\n",
    "#     SVM = SVC(#C=1.0,#kernel='poly',#degree=1,#tol=0.001\n",
    "#     probability=True)\n",
    "#     CART = DecisionTreeClassifier(criterion='entropy'\n",
    "#                                  )\n",
    "    SVM = SVM_model(SVC(kernel='linear',probability=True))\n",
    "    \n",
    "    \n",
    "    \n",
    "models = [\n",
    "    CPSelfTraining(\"CP_SelfTrain\",base_classifiers.SVM),\n",
    "    CPSelfTraining(\"MCP_SelfTrain\",base_classifiers.SVM,mondrian=True),\n",
    "    ICPSelftraining(\"ICP_SelfTrain_SVM\",base_classifiers.SVM),\n",
    "    ICPSelftraining(\"MICP_SelfTrain_SVM\",base_classifiers.SVM,mondrian = True),\n",
    "    StandardSelftraining(\"STD_SelfTrain_SVM\",SVC(kernel='linear',probability=True))\n",
    "        ]"
   ]
  },
  {
   "cell_type": "markdown",
   "metadata": {},
   "source": [
    "## Training and Scoring"
   ]
  },
  {
   "cell_type": "code",
   "execution_count": null,
   "metadata": {},
   "outputs": [],
   "source": [
    "results = pd.DataFrame()\n",
    "cnf_matrixes = {}\n",
    "predictions = {}\n",
    "exeTime = 0\n",
    "\n",
    "for model in models:\n",
    "    cnf_matrixes[model.name] = {}\n",
    "    print(model.name)\n",
    "    start = time.time()\n",
    "    \n",
    "    model.training(X_labeled, X_unlabeled, y_labeled, y_unlabeled)\n",
    "\n",
    "    y_prob,y_true,y_pred_label, scores, cnf_matrix = model.score(X_test,y_test)\n",
    "    predictions[model.name] = [y_true,y_prob[:,0],y_prob[:,1],y_pred_label]\n",
    "\n",
    "    print(classification_report_imbalanced(y_true, y_pred_label, digits=4))\n",
    "    print(classification_report(y_true, y_pred_label, digits=4))\n",
    "    end = time.time()\n",
    "    exeTime = end - start\n",
    "    \n",
    "    test_info = { \"classifier\": model.name,\"Labeled ratio\":labeled_ratio ,\"IR\":imbalanced_ratio,\"Time(sec)\":exeTime}\n",
    "    if results.empty:\n",
    "            results = pd.DataFrame([{**test_info, **scores}])\n",
    "    else:\n",
    "             results.loc[len(results.index)] = {**test_info, **scores}\n",
    "    cnf_matrixes[model.name][imbalanced_ratio] = cnf_matrix\n",
    "    \n",
    "    print()\n",
    "    print(\"--------\")\n",
    "plt.show()"
   ]
  },
  {
   "cell_type": "code",
   "execution_count": null,
   "metadata": {},
   "outputs": [],
   "source": [
    "cnf_matrixes['ICP_SelfTrain_SVM'][imbalanced_ratio]"
   ]
  },
  {
   "cell_type": "code",
   "execution_count": null,
   "metadata": {},
   "outputs": [],
   "source": [
    "cnf_matrixes['MICP_SelfTrain_SVM'][imbalanced_ratio]"
   ]
  },
  {
   "cell_type": "code",
   "execution_count": null,
   "metadata": {},
   "outputs": [],
   "source": [
    "cnf_matrixes['STD_SelfTrain_SVM'][imbalanced_ratio]"
   ]
  },
  {
   "cell_type": "code",
   "execution_count": null,
   "metadata": {},
   "outputs": [],
   "source": [
    "results"
   ]
  },
  {
   "cell_type": "code",
   "execution_count": null,
   "metadata": {},
   "outputs": [],
   "source": []
  },
  {
   "cell_type": "code",
   "execution_count": null,
   "metadata": {},
   "outputs": [],
   "source": []
  },
  {
   "cell_type": "code",
   "execution_count": null,
   "metadata": {},
   "outputs": [],
   "source": []
  },
  {
   "cell_type": "code",
   "execution_count": null,
   "metadata": {},
   "outputs": [],
   "source": []
  },
  {
   "cell_type": "code",
   "execution_count": null,
   "metadata": {},
   "outputs": [],
   "source": []
  },
  {
   "cell_type": "code",
   "execution_count": null,
   "metadata": {},
   "outputs": [],
   "source": []
  }
 ],
 "metadata": {
  "kernelspec": {
   "display_name": "Python 3",
   "language": "python",
   "name": "python3"
  },
  "language_info": {
   "codemirror_mode": {
    "name": "ipython",
    "version": 3
   },
   "file_extension": ".py",
   "mimetype": "text/x-python",
   "name": "python",
   "nbconvert_exporter": "python",
   "pygments_lexer": "ipython3",
   "version": "3.7.4"
  }
 },
 "nbformat": 4,
 "nbformat_minor": 2
}
